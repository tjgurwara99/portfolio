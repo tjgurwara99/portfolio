{
 "cells": [
  {
   "cell_type": "markdown",
   "metadata": {},
   "source": [
    "# Maths behind this program\n",
    "\n",
    "## Fermat's Little Theorem\n",
    "\n",
    "This program heavily relies on fermat's little theorem. The theorem states that:\n",
    "\n",
    "$$ \\begin{equation} a^{p-1} \\equiv 1 \\mod p  \\ \\ \\ \\ \\ \\ \\ \\ \\ \\ \\ \\ \\ \\ \\  \\{ \\ \\  \\forall a \\in \\mathbb{N}, \\  p \\in \\text{Prime} ; a < p \\ \\ \\} \\label{fermat} \\end{equation}$$\n",
    "\n",
    "The main function calls the function fermatprime() from the prime.h library. This Function uses 3 random numbers generated as our $a$'s in an iterative process. This increases the probability of the number being a prime if it passes through all three iterations and satifies the equation above. \n",
    "\n",
    "---"
   ]
  },
  {
   "cell_type": "markdown",
   "metadata": {},
   "source": [
    "## Optimisation\n",
    "\n",
    "Since, we will be testing arbitarily large numbers, using a simple implementation of the algorithm would result in exponential increase in computation if there are more than 10 digits (figure depends on the type of processor the program was compiled in). So, in order to get better performance, I had to resort to using Modular exponentiation, which drastically reduced the time it took to calculate the modulo. I made several protypes of the modular exponentiation and tried measuring the time it took to calculate the modulo.\n",
    "\n",
    "---"
   ]
  },
  {
   "cell_type": "markdown",
   "metadata": {},
   "source": [
    "## Modular Exponentiation\n",
    "\n",
    "The principle of modular exponentiation are based on converting power into a binary format, which makes it possible for us to calculate faster. For example:\n",
    "\n",
    "$$ 15^{16} \\equiv 1 \\mod 17  $$\n",
    "\n",
    "Now, we can either raise 15 to its respective power and calculate the modulo, which is very compulationally expensive. But, if we change the equation to:\n",
    "$$ 15^{2^4} \\implies 15^{2^3} \\cdot 15^{2^3} $$\n",
    "$$ 15^{2^3} \\cdot 15^{2^3} \\implies 15^{2^2} \\cdot 15^{2^2} \\cdot 15^{2^3} $$\n",
    "\n",
    "Now, if we find the value of $ a $ in $15^{2^2} \\equiv a \\mod 17$ then, the congruces becomes:\n",
    "\n",
    "From previous calculations we know that  $ \\ \\ 15^{2^3} \\equiv a \\cdot a \\equiv b \\mod 17$ \n",
    "\n",
    "Then\n",
    "\n",
    "$$ 15^{2^4} \\equiv 15^{2^3} \\cdot 15^{2^3} \\equiv b \\cdot b \\mod 17 $$\n",
    "\n",
    "---"
   ]
  },
  {
   "cell_type": "markdown",
   "metadata": {},
   "source": [
    "## Future Plans\n",
    "\n",
    "I will try to create a function that uses AKS-Primality test, which is a deterministic test for primes. However, since I am using C++, there are many functions that I need to use for that test which are missing. So, I will have to program them from scratch.\n",
    "Also, to further optimise fermat primality test, I will be expanding the function to use fermat's little theorem to its advantage. "
   ]
  }
 ],
 "metadata": {
  "kernelspec": {
   "display_name": "Python 3",
   "language": "python",
   "name": "python3"
  },
  "language_info": {
   "codemirror_mode": {
    "name": "ipython",
    "version": 3
   },
   "file_extension": ".py",
   "mimetype": "text/x-python",
   "name": "python",
   "nbconvert_exporter": "python",
   "pygments_lexer": "ipython3",
   "version": "3.6.4"
  }
 },
 "nbformat": 4,
 "nbformat_minor": 2
}
